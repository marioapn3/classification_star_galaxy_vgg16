{
  "metadata": {
    "kernelspec": {
      "language": "python",
      "display_name": "Python 3",
      "name": "python3"
    },
    "language_info": {
      "name": "python",
      "version": "3.10.13",
      "mimetype": "text/x-python",
      "codemirror_mode": {
        "name": "ipython",
        "version": 3
      },
      "pygments_lexer": "ipython3",
      "nbconvert_exporter": "python",
      "file_extension": ".py"
    },
    "kaggle": {
      "accelerator": "nvidiaTeslaT4",
      "dataSources": [
        {
          "sourceId": 1479286,
          "sourceType": "datasetVersion",
          "datasetId": 865179
        }
      ],
      "dockerImageVersionId": 30733,
      "isInternetEnabled": true,
      "language": "python",
      "sourceType": "notebook",
      "isGpuEnabled": true
    },
    "colab": {
      "name": "notebookeba338db9b",
      "provenance": [],
      "include_colab_link": true
    }
  },
  "nbformat_minor": 0,
  "nbformat": 4,
  "cells": [
    {
      "cell_type": "markdown",
      "metadata": {
        "id": "view-in-github",
        "colab_type": "text"
      },
      "source": [
        "<a href=\"https://colab.research.google.com/github/marioapn3/classification_star_galaxy_vgg16/blob/main/notebookeba338db9b.ipynb\" target=\"_parent\"><img src=\"https://colab.research.google.com/assets/colab-badge.svg\" alt=\"Open In Colab\"/></a>"
      ]
    },
    {
      "source": [
        "\n",
        "# IMPORTANT: RUN THIS CELL IN ORDER TO IMPORT YOUR KAGGLE DATA SOURCES\n",
        "# TO THE CORRECT LOCATION (/kaggle/input) IN YOUR NOTEBOOK,\n",
        "# THEN FEEL FREE TO DELETE THIS CELL.\n",
        "# NOTE: THIS NOTEBOOK ENVIRONMENT DIFFERS FROM KAGGLE'S PYTHON\n",
        "# ENVIRONMENT SO THERE MAY BE MISSING LIBRARIES USED BY YOUR\n",
        "# NOTEBOOK.\n",
        "\n",
        "import os\n",
        "import sys\n",
        "from tempfile import NamedTemporaryFile\n",
        "from urllib.request import urlopen\n",
        "from urllib.parse import unquote, urlparse\n",
        "from urllib.error import HTTPError\n",
        "from zipfile import ZipFile\n",
        "import tarfile\n",
        "import shutil\n",
        "\n",
        "CHUNK_SIZE = 40960\n",
        "DATA_SOURCE_MAPPING = 'stars-and-galaxies:https%3A%2F%2Fstorage.googleapis.com%2Fkaggle-data-sets%2F865179%2F1479286%2Fbundle%2Farchive.zip%3FX-Goog-Algorithm%3DGOOG4-RSA-SHA256%26X-Goog-Credential%3Dgcp-kaggle-com%2540kaggle-161607.iam.gserviceaccount.com%252F20240704%252Fauto%252Fstorage%252Fgoog4_request%26X-Goog-Date%3D20240704T051210Z%26X-Goog-Expires%3D259200%26X-Goog-SignedHeaders%3Dhost%26X-Goog-Signature%3Dcbb1449c6d212df01b7e30fdfb97aa30d1962ece5e895a3df9889b109adcadcc533383ead5b3ece4240431af9abe7db481ed8d2a59fad2a58422ba5364aef6b53d85f691bb45b2e427c4243ff6c8294edcd50c1c09d49ba2773ae60954fc2215668a85beabc49b4483c456184ec6637bbaaf6d7af1fdb74f01cb5bb39c1b5ecad37daa2e1684e82b7a279eaeed5c7b3258510b2811f0fbe4cdb7f7b3bef612e1cc79601c571b84b7a7e4d5780e019975bbf115b35df398886576391d5c9c2f7b2f6a1a69e5441ee2c716d5c4f10bac9b390fd6fb03b6e7b8c39d5fce17fa7927a107bd0edc507dbfae7f323d18ece39bdbf7516fdc09ba1b4765da11d35a4307'\n",
        "\n",
        "KAGGLE_INPUT_PATH='/kaggle/input'\n",
        "KAGGLE_WORKING_PATH='/kaggle/working'\n",
        "KAGGLE_SYMLINK='kaggle'\n",
        "\n",
        "!umount /kaggle/input/ 2> /dev/null\n",
        "shutil.rmtree('/kaggle/input', ignore_errors=True)\n",
        "os.makedirs(KAGGLE_INPUT_PATH, 0o777, exist_ok=True)\n",
        "os.makedirs(KAGGLE_WORKING_PATH, 0o777, exist_ok=True)\n",
        "\n",
        "try:\n",
        "  os.symlink(KAGGLE_INPUT_PATH, os.path.join(\"..\", 'input'), target_is_directory=True)\n",
        "except FileExistsError:\n",
        "  pass\n",
        "try:\n",
        "  os.symlink(KAGGLE_WORKING_PATH, os.path.join(\"..\", 'working'), target_is_directory=True)\n",
        "except FileExistsError:\n",
        "  pass\n",
        "\n",
        "for data_source_mapping in DATA_SOURCE_MAPPING.split(','):\n",
        "    directory, download_url_encoded = data_source_mapping.split(':')\n",
        "    download_url = unquote(download_url_encoded)\n",
        "    filename = urlparse(download_url).path\n",
        "    destination_path = os.path.join(KAGGLE_INPUT_PATH, directory)\n",
        "    try:\n",
        "        with urlopen(download_url) as fileres, NamedTemporaryFile() as tfile:\n",
        "            total_length = fileres.headers['content-length']\n",
        "            print(f'Downloading {directory}, {total_length} bytes compressed')\n",
        "            dl = 0\n",
        "            data = fileres.read(CHUNK_SIZE)\n",
        "            while len(data) > 0:\n",
        "                dl += len(data)\n",
        "                tfile.write(data)\n",
        "                done = int(50 * dl / int(total_length))\n",
        "                sys.stdout.write(f\"\\r[{'=' * done}{' ' * (50-done)}] {dl} bytes downloaded\")\n",
        "                sys.stdout.flush()\n",
        "                data = fileres.read(CHUNK_SIZE)\n",
        "            if filename.endswith('.zip'):\n",
        "              with ZipFile(tfile) as zfile:\n",
        "                zfile.extractall(destination_path)\n",
        "            else:\n",
        "              with tarfile.open(tfile.name) as tarfile:\n",
        "                tarfile.extractall(destination_path)\n",
        "            print(f'\\nDownloaded and uncompressed: {directory}')\n",
        "    except HTTPError as e:\n",
        "        print(f'Failed to load (likely expired) {download_url} to path {destination_path}')\n",
        "        continue\n",
        "    except OSError as e:\n",
        "        print(f'Failed to load {download_url} to path {destination_path}')\n",
        "        continue\n",
        "\n",
        "print('Data source import complete.')\n"
      ],
      "metadata": {
        "id": "Day-FWUrKFLp"
      },
      "cell_type": "code",
      "outputs": [],
      "execution_count": null
    },
    {
      "cell_type": "code",
      "source": [
        "direct = \"../input/stars-and-galaxies/data\""
      ],
      "metadata": {
        "_uuid": "8f2839f25d086af736a60e9eeb907d3b93b6e0e5",
        "_cell_guid": "b1076dfc-b9ad-4769-8c92-a6c4dae69d19",
        "execution": {
          "iopub.status.busy": "2024-07-04T03:35:16.291784Z",
          "iopub.execute_input": "2024-07-04T03:35:16.292529Z",
          "iopub.status.idle": "2024-07-04T03:35:16.307139Z",
          "shell.execute_reply.started": "2024-07-04T03:35:16.292474Z",
          "shell.execute_reply": "2024-07-04T03:35:16.306095Z"
        },
        "trusted": true,
        "id": "ITZK2r5QKFLw"
      },
      "execution_count": null,
      "outputs": []
    },
    {
      "cell_type": "code",
      "source": [
        "import numpy as np\n",
        "import pandas as pd\n",
        "import matplotlib.pyplot as plt\n",
        "from tqdm import tqdm\n",
        "import cv2\n",
        "import os\n",
        "from tensorflow.keras.preprocessing.image import ImageDataGenerator\n",
        "from tensorflow.keras.layers import Dense, GlobalAveragePooling2D,Flatten\n",
        "from tensorflow.keras.models import Model\n",
        "from tensorflow.keras.applications import MobileNetV2\n",
        "from tensorflow.keras.models import Sequential\n"
      ],
      "metadata": {
        "execution": {
          "iopub.status.busy": "2024-07-04T03:35:16.310099Z",
          "iopub.execute_input": "2024-07-04T03:35:16.310958Z",
          "iopub.status.idle": "2024-07-04T03:35:28.868551Z",
          "shell.execute_reply.started": "2024-07-04T03:35:16.310923Z",
          "shell.execute_reply": "2024-07-04T03:35:28.867731Z"
        },
        "trusted": true,
        "id": "W5REZsBuKFLx",
        "outputId": "e0cfeb53-228e-499d-f28a-1008aeb311e4"
      },
      "execution_count": null,
      "outputs": [
        {
          "name": "stderr",
          "text": "2024-07-04 03:35:19.025018: E external/local_xla/xla/stream_executor/cuda/cuda_dnn.cc:9261] Unable to register cuDNN factory: Attempting to register factory for plugin cuDNN when one has already been registered\n2024-07-04 03:35:19.025134: E external/local_xla/xla/stream_executor/cuda/cuda_fft.cc:607] Unable to register cuFFT factory: Attempting to register factory for plugin cuFFT when one has already been registered\n2024-07-04 03:35:19.158025: E external/local_xla/xla/stream_executor/cuda/cuda_blas.cc:1515] Unable to register cuBLAS factory: Attempting to register factory for plugin cuBLAS when one has already been registered\n",
          "output_type": "stream"
        }
      ]
    },
    {
      "cell_type": "code",
      "source": [
        "# Path to dataset\n",
        "train_dir = f'{direct}/train'\n",
        "val_dir =  f'{direct}/validation'"
      ],
      "metadata": {
        "execution": {
          "iopub.status.busy": "2024-07-04T03:35:28.870092Z",
          "iopub.execute_input": "2024-07-04T03:35:28.870642Z",
          "iopub.status.idle": "2024-07-04T03:35:28.875134Z",
          "shell.execute_reply.started": "2024-07-04T03:35:28.870615Z",
          "shell.execute_reply": "2024-07-04T03:35:28.874074Z"
        },
        "trusted": true,
        "id": "5tjZssDhKFLy"
      },
      "execution_count": null,
      "outputs": []
    },
    {
      "cell_type": "code",
      "source": [
        "# Image data generator\n",
        "train_datagen = ImageDataGenerator(rescale=1./255, rotation_range=40,\n",
        "    width_shift_range=0.2,\n",
        "    height_shift_range=0.2,\n",
        "    shear_range=0.2,\n",
        "    zoom_range=0.2,\n",
        "    horizontal_flip=True,\n",
        "    fill_mode='nearest')\n",
        "val_datagen = ImageDataGenerator(rescale=1./255)"
      ],
      "metadata": {
        "execution": {
          "iopub.status.busy": "2024-07-04T03:35:28.876271Z",
          "iopub.execute_input": "2024-07-04T03:35:28.87662Z",
          "iopub.status.idle": "2024-07-04T03:35:28.986623Z",
          "shell.execute_reply.started": "2024-07-04T03:35:28.876588Z",
          "shell.execute_reply": "2024-07-04T03:35:28.985556Z"
        },
        "trusted": true,
        "id": "opCl8PP0KFLz"
      },
      "execution_count": null,
      "outputs": []
    },
    {
      "cell_type": "code",
      "source": [
        "bs = 32\n",
        "lr = 0.00\n",
        "size = (224, 224)\n",
        "shape = (224,224, 3)\n",
        "epochs = 30\n",
        "batch_size = 32"
      ],
      "metadata": {
        "execution": {
          "iopub.status.busy": "2024-07-04T03:35:28.989124Z",
          "iopub.execute_input": "2024-07-04T03:35:28.989436Z",
          "iopub.status.idle": "2024-07-04T03:35:28.994566Z",
          "shell.execute_reply.started": "2024-07-04T03:35:28.989411Z",
          "shell.execute_reply": "2024-07-04T03:35:28.99373Z"
        },
        "trusted": true,
        "id": "Rd4moNXBKFLz"
      },
      "execution_count": null,
      "outputs": []
    },
    {
      "cell_type": "code",
      "source": [
        "train_generator = train_datagen.flow_from_directory(\n",
        "    train_dir,\n",
        "    target_size=size,\n",
        "    batch_size=batch_size,\n",
        "    class_mode='binary')\n",
        "\n",
        "validation_generator = val_datagen.flow_from_directory(\n",
        "    val_dir,\n",
        "    target_size=size,\n",
        "    batch_size=batch_size,\n",
        "    class_mode='binary')"
      ],
      "metadata": {
        "execution": {
          "iopub.status.busy": "2024-07-04T03:35:28.995694Z",
          "iopub.execute_input": "2024-07-04T03:35:28.995965Z",
          "iopub.status.idle": "2024-07-04T03:35:36.354058Z",
          "shell.execute_reply.started": "2024-07-04T03:35:28.995942Z",
          "shell.execute_reply": "2024-07-04T03:35:36.35316Z"
        },
        "trusted": true,
        "id": "RYZqMQ1BKFL0",
        "outputId": "51393d4c-edb3-42e6-c709-1847b3dd7456"
      },
      "execution_count": null,
      "outputs": [
        {
          "name": "stdout",
          "text": "Found 8000 images belonging to 2 classes.\nFound 2000 images belonging to 2 classes.\n",
          "output_type": "stream"
        }
      ]
    },
    {
      "cell_type": "code",
      "source": [
        "sample_training_images, _ = next(train_generator)"
      ],
      "metadata": {
        "execution": {
          "iopub.status.busy": "2024-07-04T03:35:36.35528Z",
          "iopub.execute_input": "2024-07-04T03:35:36.355649Z",
          "iopub.status.idle": "2024-07-04T03:35:37.065896Z",
          "shell.execute_reply.started": "2024-07-04T03:35:36.355615Z",
          "shell.execute_reply": "2024-07-04T03:35:37.06491Z"
        },
        "trusted": true,
        "id": "Iu91xB3pKFL1"
      },
      "execution_count": null,
      "outputs": []
    },
    {
      "cell_type": "code",
      "source": [
        "image_batch = sample_training_images[:batch_size]"
      ],
      "metadata": {
        "execution": {
          "iopub.status.busy": "2024-07-04T03:35:37.067108Z",
          "iopub.execute_input": "2024-07-04T03:35:37.067398Z",
          "iopub.status.idle": "2024-07-04T03:35:37.07189Z",
          "shell.execute_reply.started": "2024-07-04T03:35:37.067373Z",
          "shell.execute_reply": "2024-07-04T03:35:37.070881Z"
        },
        "trusted": true,
        "id": "DgPjbfkSKFL2"
      },
      "execution_count": null,
      "outputs": []
    },
    {
      "cell_type": "code",
      "source": [
        "import tensorflow as tf\n",
        "base_model = tf.keras.applications.VGG16(input_shape=shape,\n",
        "                                               include_top=False,\n",
        "                                               weights='imagenet')\n",
        "base_model.trainable = False\n",
        "\n",
        "\n"
      ],
      "metadata": {
        "execution": {
          "iopub.status.busy": "2024-07-04T03:35:37.072925Z",
          "iopub.execute_input": "2024-07-04T03:35:37.073206Z",
          "iopub.status.idle": "2024-07-04T03:35:38.492924Z",
          "shell.execute_reply.started": "2024-07-04T03:35:37.073184Z",
          "shell.execute_reply": "2024-07-04T03:35:38.492097Z"
        },
        "trusted": true,
        "id": "8nrxgU1YKFL2",
        "outputId": "58325fde-510b-43d9-b350-7e36fcd2dd1c"
      },
      "execution_count": null,
      "outputs": [
        {
          "name": "stdout",
          "text": "Downloading data from https://storage.googleapis.com/tensorflow/keras-applications/vgg16/vgg16_weights_tf_dim_ordering_tf_kernels_notop.h5\n\u001b[1m58889256/58889256\u001b[0m \u001b[32m━━━━━━━━━━━━━━━━━━━━\u001b[0m\u001b[37m\u001b[0m \u001b[1m0s\u001b[0m 0us/step\n",
          "output_type": "stream"
        }
      ]
    },
    {
      "cell_type": "code",
      "source": [
        "feature_batch = base_model(image_batch)"
      ],
      "metadata": {
        "execution": {
          "iopub.status.busy": "2024-07-04T03:35:38.494197Z",
          "iopub.execute_input": "2024-07-04T03:35:38.494642Z",
          "iopub.status.idle": "2024-07-04T03:35:49.579114Z",
          "shell.execute_reply.started": "2024-07-04T03:35:38.494608Z",
          "shell.execute_reply": "2024-07-04T03:35:49.57801Z"
        },
        "trusted": true,
        "id": "Dn9ClHisKFL3"
      },
      "execution_count": null,
      "outputs": []
    },
    {
      "cell_type": "code",
      "source": [
        "import tensorflow as tf\n",
        "\n",
        "global_average_layer = tf.keras.layers.GlobalAveragePooling2D()\n",
        "feature_batch_average = global_average_layer(feature_batch)\n",
        "print(feature_batch_average.shape)"
      ],
      "metadata": {
        "execution": {
          "iopub.status.busy": "2024-07-04T03:35:49.582274Z",
          "iopub.execute_input": "2024-07-04T03:35:49.582595Z",
          "iopub.status.idle": "2024-07-04T03:35:49.599968Z",
          "shell.execute_reply.started": "2024-07-04T03:35:49.582564Z",
          "shell.execute_reply": "2024-07-04T03:35:49.599055Z"
        },
        "trusted": true,
        "id": "rVY2mC8uKFL3",
        "outputId": "42e8d90a-ea3b-4ba1-970e-9f44b820ee20"
      },
      "execution_count": null,
      "outputs": [
        {
          "name": "stdout",
          "text": "(32, 512)\n",
          "output_type": "stream"
        }
      ]
    },
    {
      "cell_type": "code",
      "source": [
        "prediction_layer = tf.keras.layers.Dense(1)\n",
        "prediction_batch = prediction_layer(feature_batch_average)\n",
        "print(prediction_batch.shape)"
      ],
      "metadata": {
        "execution": {
          "iopub.status.busy": "2024-07-04T03:35:49.601041Z",
          "iopub.execute_input": "2024-07-04T03:35:49.601323Z",
          "iopub.status.idle": "2024-07-04T03:35:49.638637Z",
          "shell.execute_reply.started": "2024-07-04T03:35:49.601297Z",
          "shell.execute_reply": "2024-07-04T03:35:49.63774Z"
        },
        "trusted": true,
        "id": "BG27vx3qKFL4",
        "outputId": "352850ba-3c3b-4a60-c0b0-a7192deabc59"
      },
      "execution_count": null,
      "outputs": [
        {
          "name": "stdout",
          "text": "(32, 1)\n",
          "output_type": "stream"
        }
      ]
    },
    {
      "cell_type": "code",
      "source": [
        "model = tf.keras.Sequential([\n",
        "  base_model,\n",
        "\n",
        "  global_average_layer,\n",
        "  prediction_layer\n",
        "])\n",
        "\n",
        "base_learning_rate = 0.001\n",
        "model.compile(optimizer=tf.keras.optimizers.RMSprop(learning_rate=base_learning_rate),\n",
        "              loss=tf.keras.losses.BinaryCrossentropy(from_logits=True),\n",
        "              metrics=['accuracy'])\n",
        "\n",
        "model.summary()"
      ],
      "metadata": {
        "execution": {
          "iopub.status.busy": "2024-07-04T03:35:49.639789Z",
          "iopub.execute_input": "2024-07-04T03:35:49.640129Z",
          "iopub.status.idle": "2024-07-04T03:35:49.671124Z",
          "shell.execute_reply.started": "2024-07-04T03:35:49.640098Z",
          "shell.execute_reply": "2024-07-04T03:35:49.670278Z"
        },
        "trusted": true,
        "id": "CGDHU1m0KFL5",
        "outputId": "07722af6-4071-4f3c-bf61-4b11ca6ec889"
      },
      "execution_count": null,
      "outputs": [
        {
          "output_type": "display_data",
          "data": {
            "text/plain": "\u001b[1mModel: \"sequential\"\u001b[0m\n",
            "text/html": "<pre style=\"white-space:pre;overflow-x:auto;line-height:normal;font-family:Menlo,'DejaVu Sans Mono',consolas,'Courier New',monospace\"><span style=\"font-weight: bold\">Model: \"sequential\"</span>\n</pre>\n"
          },
          "metadata": {}
        },
        {
          "output_type": "display_data",
          "data": {
            "text/plain": "┏━━━━━━━━━━━━━━━━━━━━━━━━━━━━━━━━━┳━━━━━━━━━━━━━━━━━━━━━━━━┳━━━━━━━━━━━━━━━┓\n┃\u001b[1m \u001b[0m\u001b[1mLayer (type)                   \u001b[0m\u001b[1m \u001b[0m┃\u001b[1m \u001b[0m\u001b[1mOutput Shape          \u001b[0m\u001b[1m \u001b[0m┃\u001b[1m \u001b[0m\u001b[1m      Param #\u001b[0m\u001b[1m \u001b[0m┃\n┡━━━━━━━━━━━━━━━━━━━━━━━━━━━━━━━━━╇━━━━━━━━━━━━━━━━━━━━━━━━╇━━━━━━━━━━━━━━━┩\n│ vgg16 (\u001b[38;5;33mFunctional\u001b[0m)              │ ?                      │    \u001b[38;5;34m14,714,688\u001b[0m │\n├─────────────────────────────────┼────────────────────────┼───────────────┤\n│ global_average_pooling2d        │ ?                      │             \u001b[38;5;34m0\u001b[0m │\n│ (\u001b[38;5;33mGlobalAveragePooling2D\u001b[0m)        │                        │               │\n├─────────────────────────────────┼────────────────────────┼───────────────┤\n│ dense (\u001b[38;5;33mDense\u001b[0m)                   │ ?                      │           \u001b[38;5;34m513\u001b[0m │\n└─────────────────────────────────┴────────────────────────┴───────────────┘\n",
            "text/html": "<pre style=\"white-space:pre;overflow-x:auto;line-height:normal;font-family:Menlo,'DejaVu Sans Mono',consolas,'Courier New',monospace\">┏━━━━━━━━━━━━━━━━━━━━━━━━━━━━━━━━━┳━━━━━━━━━━━━━━━━━━━━━━━━┳━━━━━━━━━━━━━━━┓\n┃<span style=\"font-weight: bold\"> Layer (type)                    </span>┃<span style=\"font-weight: bold\"> Output Shape           </span>┃<span style=\"font-weight: bold\">       Param # </span>┃\n┡━━━━━━━━━━━━━━━━━━━━━━━━━━━━━━━━━╇━━━━━━━━━━━━━━━━━━━━━━━━╇━━━━━━━━━━━━━━━┩\n│ vgg16 (<span style=\"color: #0087ff; text-decoration-color: #0087ff\">Functional</span>)              │ ?                      │    <span style=\"color: #00af00; text-decoration-color: #00af00\">14,714,688</span> │\n├─────────────────────────────────┼────────────────────────┼───────────────┤\n│ global_average_pooling2d        │ ?                      │             <span style=\"color: #00af00; text-decoration-color: #00af00\">0</span> │\n│ (<span style=\"color: #0087ff; text-decoration-color: #0087ff\">GlobalAveragePooling2D</span>)        │                        │               │\n├─────────────────────────────────┼────────────────────────┼───────────────┤\n│ dense (<span style=\"color: #0087ff; text-decoration-color: #0087ff\">Dense</span>)                   │ ?                      │           <span style=\"color: #00af00; text-decoration-color: #00af00\">513</span> │\n└─────────────────────────────────┴────────────────────────┴───────────────┘\n</pre>\n"
          },
          "metadata": {}
        },
        {
          "output_type": "display_data",
          "data": {
            "text/plain": "\u001b[1m Total params: \u001b[0m\u001b[38;5;34m14,715,201\u001b[0m (56.13 MB)\n",
            "text/html": "<pre style=\"white-space:pre;overflow-x:auto;line-height:normal;font-family:Menlo,'DejaVu Sans Mono',consolas,'Courier New',monospace\"><span style=\"font-weight: bold\"> Total params: </span><span style=\"color: #00af00; text-decoration-color: #00af00\">14,715,201</span> (56.13 MB)\n</pre>\n"
          },
          "metadata": {}
        },
        {
          "output_type": "display_data",
          "data": {
            "text/plain": "\u001b[1m Trainable params: \u001b[0m\u001b[38;5;34m513\u001b[0m (2.00 KB)\n",
            "text/html": "<pre style=\"white-space:pre;overflow-x:auto;line-height:normal;font-family:Menlo,'DejaVu Sans Mono',consolas,'Courier New',monospace\"><span style=\"font-weight: bold\"> Trainable params: </span><span style=\"color: #00af00; text-decoration-color: #00af00\">513</span> (2.00 KB)\n</pre>\n"
          },
          "metadata": {}
        },
        {
          "output_type": "display_data",
          "data": {
            "text/plain": "\u001b[1m Non-trainable params: \u001b[0m\u001b[38;5;34m14,714,688\u001b[0m (56.13 MB)\n",
            "text/html": "<pre style=\"white-space:pre;overflow-x:auto;line-height:normal;font-family:Menlo,'DejaVu Sans Mono',consolas,'Courier New',monospace\"><span style=\"font-weight: bold\"> Non-trainable params: </span><span style=\"color: #00af00; text-decoration-color: #00af00\">14,714,688</span> (56.13 MB)\n</pre>\n"
          },
          "metadata": {}
        }
      ]
    },
    {
      "cell_type": "code",
      "source": [
        "# es = EarlyStopping(monitor='val_loss', mode='min', verbose=1, patience=10)\n",
        "es = tf.keras.callbacks.EarlyStopping(monitor='loss', mode='min', verbose=1, patience=10)\n",
        "\n",
        "# fit model\n",
        "history = model.fit(train_generator,\n",
        "                    epochs=30,\n",
        "                    callbacks=[es],\n",
        "                    validation_data=validation_generator,\n",
        "                    validation_steps=validation_generator.samples // validation_generator.batch_size,\n",
        "                    )"
      ],
      "metadata": {
        "execution": {
          "iopub.status.busy": "2024-07-04T03:40:31.087672Z",
          "iopub.execute_input": "2024-07-04T03:40:31.08868Z",
          "iopub.status.idle": "2024-07-04T04:47:21.813948Z",
          "shell.execute_reply.started": "2024-07-04T03:40:31.088635Z",
          "shell.execute_reply": "2024-07-04T04:47:21.813105Z"
        },
        "trusted": true,
        "id": "pA31xLWiKFL5",
        "outputId": "252c9424-c857-4080-f2ac-7f23c61f9b3d"
      },
      "execution_count": null,
      "outputs": [
        {
          "name": "stdout",
          "text": "Epoch 1/30\n\u001b[1m250/250\u001b[0m \u001b[32m━━━━━━━━━━━━━━━━━━━━\u001b[0m\u001b[37m\u001b[0m \u001b[1m145s\u001b[0m 565ms/step - accuracy: 0.5183 - loss: 0.6312 - val_accuracy: 0.5318 - val_loss: 0.6111\nEpoch 2/30\n\u001b[1m250/250\u001b[0m \u001b[32m━━━━━━━━━━━━━━━━━━━━\u001b[0m\u001b[37m\u001b[0m \u001b[1m138s\u001b[0m 539ms/step - accuracy: 0.5568 - loss: 0.5992 - val_accuracy: 0.3750 - val_loss: 0.5715\nEpoch 3/30\n",
          "output_type": "stream"
        },
        {
          "name": "stderr",
          "text": "/opt/conda/lib/python3.10/contextlib.py:153: UserWarning: Your input ran out of data; interrupting training. Make sure that your dataset or generator can generate at least `steps_per_epoch * epochs` batches. You may need to use the `.repeat()` function when building your dataset.\n  self.gen.throw(typ, value, traceback)\n",
          "output_type": "stream"
        },
        {
          "name": "stdout",
          "text": "\u001b[1m250/250\u001b[0m \u001b[32m━━━━━━━━━━━━━━━━━━━━\u001b[0m\u001b[37m\u001b[0m \u001b[1m133s\u001b[0m 518ms/step - accuracy: 0.5971 - loss: 0.5737 - val_accuracy: 0.5766 - val_loss: 0.5581\nEpoch 4/30\n\u001b[1m250/250\u001b[0m \u001b[32m━━━━━━━━━━━━━━━━━━━━\u001b[0m\u001b[37m\u001b[0m \u001b[1m130s\u001b[0m 507ms/step - accuracy: 0.6339 - loss: 0.5467 - val_accuracy: 0.5625 - val_loss: 0.5443\nEpoch 5/30\n\u001b[1m250/250\u001b[0m \u001b[32m━━━━━━━━━━━━━━━━━━━━\u001b[0m\u001b[37m\u001b[0m \u001b[1m135s\u001b[0m 527ms/step - accuracy: 0.6971 - loss: 0.5223 - val_accuracy: 0.6310 - val_loss: 0.5145\nEpoch 6/30\n\u001b[1m250/250\u001b[0m \u001b[32m━━━━━━━━━━━━━━━━━━━━\u001b[0m\u001b[37m\u001b[0m \u001b[1m124s\u001b[0m 481ms/step - accuracy: 0.7066 - loss: 0.5043 - val_accuracy: 0.8750 - val_loss: 0.4405\nEpoch 7/30\n\u001b[1m250/250\u001b[0m \u001b[32m━━━━━━━━━━━━━━━━━━━━\u001b[0m\u001b[37m\u001b[0m \u001b[1m135s\u001b[0m 526ms/step - accuracy: 0.7512 - loss: 0.4843 - val_accuracy: 0.6925 - val_loss: 0.4783\nEpoch 8/30\n\u001b[1m250/250\u001b[0m \u001b[32m━━━━━━━━━━━━━━━━━━━━\u001b[0m\u001b[37m\u001b[0m \u001b[1m123s\u001b[0m 478ms/step - accuracy: 0.7747 - loss: 0.4685 - val_accuracy: 0.9375 - val_loss: 0.3946\nEpoch 9/30\n\u001b[1m250/250\u001b[0m \u001b[32m━━━━━━━━━━━━━━━━━━━━\u001b[0m\u001b[37m\u001b[0m \u001b[1m136s\u001b[0m 531ms/step - accuracy: 0.7839 - loss: 0.4514 - val_accuracy: 0.8488 - val_loss: 0.4480\nEpoch 10/30\n\u001b[1m250/250\u001b[0m \u001b[32m━━━━━━━━━━━━━━━━━━━━\u001b[0m\u001b[37m\u001b[0m \u001b[1m123s\u001b[0m 477ms/step - accuracy: 0.8054 - loss: 0.4409 - val_accuracy: 0.6875 - val_loss: 0.4948\nEpoch 11/30\n\u001b[1m250/250\u001b[0m \u001b[32m━━━━━━━━━━━━━━━━━━━━\u001b[0m\u001b[37m\u001b[0m \u001b[1m133s\u001b[0m 518ms/step - accuracy: 0.8074 - loss: 0.4259 - val_accuracy: 0.8266 - val_loss: 0.4206\nEpoch 12/30\n\u001b[1m250/250\u001b[0m \u001b[32m━━━━━━━━━━━━━━━━━━━━\u001b[0m\u001b[37m\u001b[0m \u001b[1m122s\u001b[0m 472ms/step - accuracy: 0.8218 - loss: 0.4214 - val_accuracy: 0.6250 - val_loss: 0.6353\nEpoch 13/30\n\u001b[1m250/250\u001b[0m \u001b[32m━━━━━━━━━━━━━━━━━━━━\u001b[0m\u001b[37m\u001b[0m \u001b[1m134s\u001b[0m 522ms/step - accuracy: 0.8378 - loss: 0.4005 - val_accuracy: 0.8140 - val_loss: 0.4033\nEpoch 14/30\n\u001b[1m250/250\u001b[0m \u001b[32m━━━━━━━━━━━━━━━━━━━━\u001b[0m\u001b[37m\u001b[0m \u001b[1m124s\u001b[0m 484ms/step - accuracy: 0.8369 - loss: 0.3967 - val_accuracy: 0.8125 - val_loss: 0.4603\nEpoch 15/30\n\u001b[1m250/250\u001b[0m \u001b[32m━━━━━━━━━━━━━━━━━━━━\u001b[0m\u001b[37m\u001b[0m \u001b[1m137s\u001b[0m 527ms/step - accuracy: 0.8450 - loss: 0.3901 - val_accuracy: 0.8251 - val_loss: 0.3882\nEpoch 16/30\n\u001b[1m250/250\u001b[0m \u001b[32m━━━━━━━━━━━━━━━━━━━━\u001b[0m\u001b[37m\u001b[0m \u001b[1m121s\u001b[0m 471ms/step - accuracy: 0.8462 - loss: 0.3820 - val_accuracy: 1.0000 - val_loss: 0.2223\nEpoch 17/30\n\u001b[1m250/250\u001b[0m \u001b[32m━━━━━━━━━━━━━━━━━━━━\u001b[0m\u001b[37m\u001b[0m \u001b[1m133s\u001b[0m 520ms/step - accuracy: 0.8513 - loss: 0.3762 - val_accuracy: 0.8654 - val_loss: 0.3711\nEpoch 18/30\n\u001b[1m250/250\u001b[0m \u001b[32m━━━━━━━━━━━━━━━━━━━━\u001b[0m\u001b[37m\u001b[0m \u001b[1m131s\u001b[0m 476ms/step - accuracy: 0.8550 - loss: 0.3671 - val_accuracy: 0.8750 - val_loss: 0.2755\nEpoch 19/30\n\u001b[1m250/250\u001b[0m \u001b[32m━━━━━━━━━━━━━━━━━━━━\u001b[0m\u001b[37m\u001b[0m \u001b[1m134s\u001b[0m 522ms/step - accuracy: 0.8570 - loss: 0.3654 - val_accuracy: 0.8382 - val_loss: 0.3617\nEpoch 20/30\n\u001b[1m250/250\u001b[0m \u001b[32m━━━━━━━━━━━━━━━━━━━━\u001b[0m\u001b[37m\u001b[0m \u001b[1m122s\u001b[0m 473ms/step - accuracy: 0.8601 - loss: 0.3619 - val_accuracy: 0.8750 - val_loss: 0.2249\nEpoch 21/30\n\u001b[1m250/250\u001b[0m \u001b[32m━━━━━━━━━━━━━━━━━━━━\u001b[0m\u001b[37m\u001b[0m \u001b[1m134s\u001b[0m 524ms/step - accuracy: 0.8620 - loss: 0.3510 - val_accuracy: 0.8684 - val_loss: 0.3470\nEpoch 22/30\n\u001b[1m250/250\u001b[0m \u001b[32m━━━━━━━━━━━━━━━━━━━━\u001b[0m\u001b[37m\u001b[0m \u001b[1m122s\u001b[0m 475ms/step - accuracy: 0.8647 - loss: 0.3520 - val_accuracy: 0.9375 - val_loss: 0.3739\nEpoch 23/30\n\u001b[1m250/250\u001b[0m \u001b[32m━━━━━━━━━━━━━━━━━━━━\u001b[0m\u001b[37m\u001b[0m \u001b[1m136s\u001b[0m 528ms/step - accuracy: 0.8626 - loss: 0.3487 - val_accuracy: 0.8538 - val_loss: 0.3413\nEpoch 24/30\n\u001b[1m250/250\u001b[0m \u001b[32m━━━━━━━━━━━━━━━━━━━━\u001b[0m\u001b[37m\u001b[0m \u001b[1m123s\u001b[0m 478ms/step - accuracy: 0.8689 - loss: 0.3414 - val_accuracy: 1.0000 - val_loss: 0.2882\nEpoch 25/30\n\u001b[1m250/250\u001b[0m \u001b[32m━━━━━━━━━━━━━━━━━━━━\u001b[0m\u001b[37m\u001b[0m \u001b[1m135s\u001b[0m 525ms/step - accuracy: 0.8672 - loss: 0.3355 - val_accuracy: 0.8513 - val_loss: 0.3338\nEpoch 26/30\n\u001b[1m250/250\u001b[0m \u001b[32m━━━━━━━━━━━━━━━━━━━━\u001b[0m\u001b[37m\u001b[0m \u001b[1m140s\u001b[0m 520ms/step - accuracy: 0.8644 - loss: 0.3359 - val_accuracy: 0.7500 - val_loss: 0.4500\nEpoch 27/30\n\u001b[1m250/250\u001b[0m \u001b[32m━━━━━━━━━━━━━━━━━━━━\u001b[0m\u001b[37m\u001b[0m \u001b[1m159s\u001b[0m 617ms/step - accuracy: 0.8711 - loss: 0.3236 - val_accuracy: 0.8664 - val_loss: 0.3253\nEpoch 28/30\n\u001b[1m250/250\u001b[0m \u001b[32m━━━━━━━━━━━━━━━━━━━━\u001b[0m\u001b[37m\u001b[0m \u001b[1m144s\u001b[0m 559ms/step - accuracy: 0.8687 - loss: 0.3269 - val_accuracy: 0.9375 - val_loss: 0.2763\nEpoch 29/30\n\u001b[1m250/250\u001b[0m \u001b[32m━━━━━━━━━━━━━━━━━━━━\u001b[0m\u001b[37m\u001b[0m \u001b[1m161s\u001b[0m 629ms/step - accuracy: 0.8748 - loss: 0.3252 - val_accuracy: 0.8609 - val_loss: 0.3218\nEpoch 30/30\n\u001b[1m250/250\u001b[0m \u001b[32m━━━━━━━━━━━━━━━━━━━━\u001b[0m\u001b[37m\u001b[0m \u001b[1m141s\u001b[0m 550ms/step - accuracy: 0.8722 - loss: 0.3225 - val_accuracy: 0.9375 - val_loss: 0.2286\n",
          "output_type": "stream"
        }
      ]
    },
    {
      "cell_type": "code",
      "source": [
        "# Plotting the model accuracy and loss\n",
        "plt.figure(figsize=(12, 4))\n",
        "\n",
        "plt.subplot(1, 2, 1)\n",
        "plt.plot(history.history['accuracy'], label='train_accuracy')\n",
        "plt.plot(history.history['val_accuracy'], label='val_accuracy')\n",
        "plt.title('Model Accuracy')\n",
        "plt.xlabel('Epochs')\n",
        "plt.ylabel('Accuracy')\n",
        "plt.legend()\n",
        "\n",
        "plt.subplot(1, 2, 2)\n",
        "plt.plot(history.history['loss'], label='train_loss')\n",
        "plt.plot(history.history['val_loss'], label='val_loss')\n",
        "plt.title('Model Loss')\n",
        "plt.xlabel('Epochs')\n",
        "plt.ylabel('Loss')\n",
        "plt.legend()\n",
        "\n",
        "plt.show()"
      ],
      "metadata": {
        "execution": {
          "iopub.status.busy": "2024-07-04T04:47:24.895891Z",
          "iopub.execute_input": "2024-07-04T04:47:24.896169Z",
          "iopub.status.idle": "2024-07-04T04:47:25.312484Z",
          "shell.execute_reply.started": "2024-07-04T04:47:24.896143Z",
          "shell.execute_reply": "2024-07-04T04:47:25.311643Z"
        },
        "trusted": true,
        "id": "zCqNnu9GKFMK",
        "outputId": "ca4c308c-db8e-42de-e508-0ca2c5d69afa"
      },
      "execution_count": null,
      "outputs": [
        {
          "output_type": "display_data",
          "data": {
            "text/plain": "<Figure size 1200x400 with 2 Axes>",
            "image/png": "[encoded data removed]"
          },
          "metadata": {}
        }
      ]
    }
  ]
}